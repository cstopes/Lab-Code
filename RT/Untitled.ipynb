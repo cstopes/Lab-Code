{
 "cells": [
  {
   "cell_type": "markdown",
   "metadata": {},
   "source": [
    "## Loading Data"
   ]
  },
  {
   "cell_type": "code",
   "execution_count": 1,
   "metadata": {},
   "outputs": [],
   "source": [
    "import numpy as np\n",
    "import matplotlib.pyplot as plt\n",
    "%matplotlib inline"
   ]
  },
  {
   "cell_type": "code",
   "execution_count": 2,
   "metadata": {},
   "outputs": [],
   "source": [
    "Rs = 100 # shield resistor 100 ohm\n",
    "Rp = 10000 # plate resistor 10000 ohm"
   ]
  },
  {
   "cell_type": "code",
   "execution_count": 3,
   "metadata": {},
   "outputs": [],
   "source": [
    "data = np.loadtxt(\"goodData 20-10-2021.txt\", skiprows=2, delimiter=\", \")\n",
    "\n",
    "vin, vp, dvp, vs, dvs = data[:,0], data[:,1], data[:,2], data[:,3], data[:,4]\n",
    "\n",
    "# input voltage, plate voltage, uncertainty on plate voltage,\n",
    "# shield voltage, uncertainty on shield voltage"
   ]
  },
  {
   "cell_type": "code",
   "execution_count": 4,
   "metadata": {},
   "outputs": [],
   "source": [
    "frozendata = np.loadtxt(\"nitrodata.txt\", skiprows=2, delimiter=\", \")\n",
    "\n",
    "# 'f' for frozen\n",
    "fvin, fvp, fvs = frozendata[:,0], frozendata[:,1], frozendata[:,2]\n",
    "\n",
    "#uncertainty on plate voltage was always 0.1e-03 V\n",
    "dfvp = 0.1e-03 * np.ones(len(fvp))\n",
    "\n",
    "#V_s uncertainties were 0.1e-03 except the last 4, which were an order of mag higher\n",
    "dfvs = 0.1e-03 * np.ones(len(fvs) - 4)\n",
    "dfvs = np.append(dfvs, [1e-03, 1e-03, 1e-03, 1e-03])"
   ]
  },
  {
   "cell_type": "code",
   "execution_count": 16,
   "metadata": {},
   "outputs": [
    {
     "name": "stdout",
     "output_type": "stream",
     "text": [
      "[-0.   -0.05 -0.1  -0.15 -0.2  -0.25 -0.3  -0.35 -0.4  -0.45]\n"
     ]
    }
   ],
   "source": [
    "reversedata = np.loadtxt(\"reversedata.txt\", skiprows=2, delimiter=\", \")\n",
    "\n",
    "# 'r' for reverse\n",
    "rvin, rvp, rvs = -1 * reversedata[:,0], 1e-03*reversedata[:,1], 1e-03*reversedata[:,2]\n",
    "\n",
    "# uniform uncertainties on each reading of reverse voltages\n",
    "drvp = 0.1e-03 * np.ones(len(rvp))\n",
    "drvs = 0.1e-03 * np.ones(len(rvs))\n",
    "\n",
    "print(rvin)"
   ]
  },
  {
   "cell_type": "markdown",
   "metadata": {},
   "source": [
    "## Finding $V_c$"
   ]
  },
  {
   "cell_type": "markdown",
   "metadata": {},
   "source": [
    "Some of the readings for shield current were zero. Since I had to do a log plot of these values, I had to simply ignore these values of zero, as log(0) is invalid. "
   ]
  },
  {
   "cell_type": "code",
   "execution_count": 32,
   "metadata": {},
   "outputs": [
    {
     "data": {
      "image/png": "[encoded data removed]",
      "text/plain": [
       "<Figure size 432x288 with 1 Axes>"
      ]
     },
     "metadata": {
      "needs_background": "light"
     },
     "output_type": "display_data"
    }
   ],
   "source": [
    "zeroes = np.where(rvs == 0) # Finding the zeros in the shield current array\n",
    "\n",
    "correctrvs = np.delete(rvs, zeroes)\n",
    "correctdrvs = np.delete(drvs, zeroes)\n",
    "\n",
    "correctrvin = np.delete(rvin, zeroes) # shape of this array needs to be the same, so graphing is possible\n",
    "\n",
    "# finding currents with Ohm's Law\n",
    "ri_s = correctrvs/Rs # reverse shield current\n",
    "dri_s = correctdrvs/Rs # uncertainty on that, using error propagation formula\n",
    "\n",
    "# Getting V = -(V + V_s)\n",
    "V = (correctrvin + correctrvs)\n",
    "dV = correctdrvs\n",
    "\n",
    "# Getting logs for the graph\n",
    "logri_s = np.log(ri_s)\n",
    "dlogri_s = dri_s/ri_s\n",
    "\n",
    "plt.errorbar(V, logri_s, yerr = dlogri_s, xerr = dV, fmt='.')\n",
    "plt.xlabel(\"Reverse voltages V + V_s\")\n",
    "plt.ylabel(\"log(I*)\")\n",
    "plt.grid()"
   ]
  },
  {
   "cell_type": "code",
   "execution_count": 134,
   "metadata": {},
   "outputs": [
    {
     "name": "stdout",
     "output_type": "stream",
     "text": [
      "Beta: [  8.35180328 -10.45598892]\n",
      "Beta Std Error: [0.48648703 0.05852502]\n",
      "Beta Covariance: [[1.83461713 0.15373401]\n",
      " [0.15373401 0.02655132]]\n",
      "Residual Variance: 0.12900219385812625\n",
      "Inverse Condition #: 0.08544407484319155\n",
      "Reason(s) for Halting:\n",
      "  Sum of squares convergence\n",
      "\n",
      "\n"
     ]
    }
   ],
   "source": [
    "import scipy.odr as odr\n",
    "\n",
    "def linear(params,x):\n",
    "    m,c = params[0], params[1]\n",
    "    return m*x + c\n",
    "\n",
    "def fitting(x, y, xerr, yerr, guessparameters):\n",
    "    line = odr.Model(linear)\n",
    "    myData = odr.Data(x,y, wd=1/xerr, we=1/yerr)\n",
    "    fit = odr.ODR(myData, line, beta0=guessparameters)\n",
    "    output = fit.run()\n",
    "    output.pprint()\n",
    "    print(\"\\n\")\n",
    "    \n",
    "    m,c = output.beta[0], output.beta[1]\n",
    "    varm, varc = output.cov_beta[0,0], output.cov_beta[1,1]\n",
    "    \n",
    "    return m,c, varm, varc\n",
    "\n",
    "linebestfit = fitting(V,logri_s, dV, dlogri_s, [10,-10.5])\n",
    "\n",
    "bestfitparams = [linebestfit[0], linebestfit[1]]"
   ]
  },
  {
   "cell_type": "code",
   "execution_count": 129,
   "metadata": {},
   "outputs": [
    {
     "data": {
      "image/png": "[encoded data removed]",
      "text/plain": [
       "<Figure size 432x288 with 1 Axes>"
      ]
     },
     "metadata": {
      "needs_background": "light"
     },
     "output_type": "display_data"
    }
   ],
   "source": [
    "plt.errorbar(V, logri_s, yerr = dlogri_s, xerr = dV, fmt='.')\n",
    "plt.plot(V, linear(bestfitparams,V))\n",
    "plt.xlabel(\"Reverse voltages V + V_s\")\n",
    "plt.ylabel(\"log(I*)\")\n",
    "plt.grid()"
   ]
  },
  {
   "cell_type": "markdown",
   "metadata": {},
   "source": [
    "It seems that the line starts to turn around V + Vs = -0.10"
   ]
  },
  {
   "cell_type": "code",
   "execution_count": 139,
   "metadata": {
    "scrolled": false
   },
   "outputs": [
    {
     "name": "stdout",
     "output_type": "stream",
     "text": [
      "values of V: [ 0.0027 -0.048  -0.0986 -0.1491 -0.1994 -0.2497 -0.2998 -0.3499]\n",
      "first line: x in range [-0.1491 -0.1994 -0.2497 -0.2998 -0.3499]\n",
      "second line: x in range [ 0.0027 -0.048  -0.0986]\n",
      "\n",
      "\n",
      "\n",
      "Beta: [ 10.60086499 -10.0000313 ]\n",
      "Beta Std Error: [0.65151928 0.13813025]\n",
      "Beta Covariance: [[14.3688987   2.92385179]\n",
      " [ 2.92385179  0.64587208]]\n",
      "Residual Variance: 0.02954139954808108\n",
      "Inverse Condition #: 0.05178050860403307\n",
      "Reason(s) for Halting:\n",
      "  Sum of squares convergence\n",
      "\n",
      "\n",
      "Beta: [  6.42628729 -10.52991368]\n",
      "Beta Std Error: [0.32933328 0.01821418]\n",
      "Beta Covariance: [[11.04179737  0.41923182]\n",
      " [ 0.41923182  0.03377443]]\n",
      "Residual Variance: 0.009822713269453167\n",
      "Inverse Condition #: 0.04018457789002038\n",
      "Reason(s) for Halting:\n",
      "  Sum of squares convergence\n",
      "\n",
      "\n",
      "V_c is the x-coordinate where the two lines intersect\n",
      "V_c = -0.12693\n"
     ]
    },
    {
     "data": {
      "image/png": "[encoded data removed]",
      "text/plain": [
       "<Figure size 432x288 with 1 Axes>"
      ]
     },
     "metadata": {
      "needs_background": "light"
     },
     "output_type": "display_data"
    }
   ],
   "source": [
    "range1args = np.array(np.where(V <= -0.1))\n",
    "range2args = np.array(np.where(V >= -0.1))\n",
    "min1, max1 = range1args[0,0], range1args[0,-1]+1\n",
    "min2, max2 = range2args[0,0], range2args[0,-1]+1\n",
    "\n",
    "print(\"values of V: \" + str(V))\n",
    "print(\"first line: x in range \" + str(V[min1:max1]))\n",
    "print(\"second line: x in range \" + str(V[min2:max2]))\n",
    "print(\"\\n\\n\")\n",
    "\n",
    "line1 = fitting(V[min1:max1], logri_s[min1:max1], dV[min1:max1], dlogri_s[min1:max1], [10,-10])\n",
    "line2 = fitting(V[min2:max2], logri_s[min2:max2], dV[min2:max2], dlogri_s[min2:max2], [6,-10.5])\n",
    "\n",
    "m1, c1, varm1, varc1 = line1\n",
    "m2, c2, varm2, varc2 = line2\n",
    "\n",
    "Vc = (c2 - c1) / (m1 - m2)\n",
    "ycross = m1*Vc + c1\n",
    "y_axis = np.arange(-16,ycross, 0.1)\n",
    "xcross = Vc * np.ones(len(y_axis))\n",
    "\n",
    "plt.errorbar(V, logri_s, yerr = dlogri_s, xerr = dV, fmt='.')\n",
    "plt.plot(V, linear([m1,c1],V), label=\"before oversaturation\")\n",
    "plt.plot(V, linear([m2,c2],V), label=\"after oversaturation\")\n",
    "plt.plot(xcross, y_axis, label=\"V_c = %.3f\"%V_c)\n",
    "plt.xlabel(\"Reverse voltages V + V_s\")\n",
    "plt.ylabel(\"log(I*)\")\n",
    "plt.ylim(-15,-10)\n",
    "plt.legend()\n",
    "plt.grid()\n",
    "\n",
    "print(\"V_c is the x-coordinate where the two lines intersect\\nV_c = %.5f\" %Vc)"
   ]
  },
  {
   "cell_type": "code",
   "execution_count": 140,
   "metadata": {},
   "outputs": [
    {
     "name": "stdout",
     "output_type": "stream",
     "text": [
      "uncertainty on V_c is 0.24998\n"
     ]
    }
   ],
   "source": [
    "Vc_err = np.sqrt((varc1 + varc2)/((m1-m2)**2) + ( (c1-c2)/((m1-m2)**2) )**2 * (varm1 + varm2) )\n",
    "\n",
    "print(\"uncertainty on V_c is %.5f\" %Vc_err)"
   ]
  },
  {
   "cell_type": "markdown",
   "metadata": {},
   "source": [
    "## Finding $\\bar{V}$"
   ]
  },
  {
   "cell_type": "markdown",
   "metadata": {},
   "source": [
    "$$ log I = log I_0 - \\frac{3}{2\\bar{V}}V_p $$"
   ]
  },
  {
   "cell_type": "code",
   "execution_count": 116,
   "metadata": {},
   "outputs": [
    {
     "data": {
      "text/plain": [
       "<ErrorbarContainer object of 3 artists>"
      ]
     },
     "execution_count": 116,
     "metadata": {},
     "output_type": "execute_result"
    },
    {
     "data": {
      "image/png": "[encoded data removed]",
      "text/plain": [
       "<Figure size 432x288 with 1 Axes>"
      ]
     },
     "metadata": {
      "needs_background": "light"
     },
     "output_type": "display_data"
    }
   ],
   "source": [
    "correctrvp = np.delete(rvp, zeroes)\n",
    "correctdrvp = np.delete(drvp, zeroes)\n",
    "\n",
    "plt.errorbar(correctrvp, logri_s, yerr = dlogri_s, xerr = correctdrvp, fmt='.')"
   ]
  },
  {
   "cell_type": "code",
   "execution_count": null,
   "metadata": {},
   "outputs": [],
   "source": [
    "vbar = 0.15"
   ]
  }
 ],
 "metadata": {
  "kernelspec": {
   "display_name": "Python 3",
   "language": "python",
   "name": "python3"
  },
  "language_info": {
   "codemirror_mode": {
    "name": "ipython",
    "version": 3
   },
   "file_extension": ".py",
   "mimetype": "text/x-python",
   "name": "python",
   "nbconvert_exporter": "python",
   "pygments_lexer": "ipython3",
   "version": "3.8.3"
  }
 },
 "nbformat": 4,
 "nbformat_minor": 4
}
