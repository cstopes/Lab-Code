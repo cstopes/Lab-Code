{
 "cells": [
  {
   "cell_type": "code",
   "execution_count": 94,
   "metadata": {},
   "outputs": [],
   "source": [
    "import pandas as pd\n",
    "import numpy as np\n",
    "import matplotlib.pyplot as plt\n",
    "import scipy.optimize as sp"
   ]
  },
  {
   "cell_type": "code",
   "execution_count": 95,
   "metadata": {},
   "outputs": [],
   "source": [
    "data = pd.read_csv(\"pleiades-extended-dataset.csv\")"
   ]
  },
  {
   "cell_type": "code",
   "execution_count": 96,
   "metadata": {},
   "outputs": [
    {
     "name": "stdout",
     "output_type": "stream",
     "text": [
      "      object  ra_hrs  ra_min  ra_sec  dec_deg  dec_min  dec_sec      v      b  \\\n",
      "0   HD 23630       3      44      27       23       58        0   2.87   2.78   \n",
      "1   HD 23850       3      46       9       23       55        0   3.64   3.56   \n",
      "2   HD 23302       3      41      57       23       58        0   3.71   3.60   \n",
      "3   HD 23408       3      42      51       24       14        0   3.88   3.81   \n",
      "4   HD 23480       3      43      21       23       49        0   4.18   4.12   \n",
      "..       ...     ...     ...     ...      ...      ...      ...    ...    ...   \n",
      "75         u       3      41       5       24        5       17  12.51  13.32   \n",
      "76         v       3      44      19       24       14       18  12.61  13.79   \n",
      "77         x       3      43       8       25        0       51  14.36  15.37   \n",
      "78         y       3      46      26       23       49       58  15.72  16.87   \n",
      "79         z       3      44      39       24       34       52  16.42  17.02   \n",
      "\n",
      "        u      notes  \n",
      "0    2.44  B7III (a)  \n",
      "1    3.20      B8III  \n",
      "2    3.19      B6III  \n",
      "3    3.41      B7III  \n",
      "4    3.69    B6IV NN  \n",
      "..    ...        ...  \n",
      "75  13.62         G1  \n",
      "76  14.79        G9V  \n",
      "77  15.84        K2V  \n",
      "78  17.85        K5V  \n",
      "79  17.27      G1III  \n",
      "\n",
      "[80 rows x 11 columns]\n"
     ]
    }
   ],
   "source": [
    "print(data)"
   ]
  },
  {
   "cell_type": "code",
   "execution_count": 97,
   "metadata": {},
   "outputs": [
    {
     "name": "stdout",
     "output_type": "stream",
     "text": [
      "0    -0.09\n",
      "1    -0.08\n",
      "2    -0.11\n",
      "3    -0.07\n",
      "4    -0.06\n",
      "      ... \n",
      "75    0.81\n",
      "76    1.18\n",
      "77    1.01\n",
      "78    1.15\n",
      "79    0.60\n",
      "Length: 80, dtype: float64\n"
     ]
    }
   ],
   "source": [
    "v = data.loc[:,\"v\"]\n",
    "b = data.loc[:,\"b\"]\n",
    "u = data.loc[:,\"u\"]\n",
    "\n",
    "bv = b-v\n",
    "print(bv)"
   ]
  },
  {
   "cell_type": "code",
   "execution_count": 98,
   "metadata": {},
   "outputs": [],
   "source": [
    "bvabsolute = np.array([-0.35, -0.31, -0.16, 0, 0.13, 0.27, 0.42, 0.58, 0.7, 0.89, 1.18, 1.45, 1.63, 1.8])\n",
    "absolutemags = np.array([-5.8, -4.1, -1.1, -0.7, 2, 2.6, 3.4, 4.4, 5.1, 5.9, 7.3, 9.0, 11.8, 16])"
   ]
  },
  {
   "cell_type": "code",
   "execution_count": 111,
   "metadata": {},
   "outputs": [
    {
     "data": {
      "image/png": "[encoded data removed]",
      "text/plain": [
       "<Figure size 432x288 with 1 Axes>"
      ]
     },
     "metadata": {
      "needs_background": "light"
     },
     "output_type": "display_data"
    }
   ],
   "source": [
    "fig, ax = plt.subplots()\n",
    "\n",
    "Doffset = 5.5\n",
    "offsetuncertainty = 0.5\n",
    "Doffset_plus_err = Doffset + offsetuncertainty\n",
    "Doffset_less_err = Doffset - offsetuncertainty\n",
    "\n",
    "ax.plot(bvabsolute, absolutemags + (Doffset_less_err), 'k:')\n",
    "ax.plot(bvabsolute, absolutemags + (Doffset), 'b')\n",
    "ax.plot(bvabsolute, absolutemags + (Doffset_plus_err), 'k:')\n",
    "\n",
    "ax.scatter(bv, v, marker=\"+\", color='red')\n",
    "\n",
    "ax.set_xlim([-0.2, 1.75])\n",
    "ax.set_ylim([20,0])\n",
    "ax.set_xlabel(\"Colour Index (B - V)\")\n",
    "ax.set_ylabel(\"V\")\n",
    "ax.spines['left'].set_color(\"red\")\n",
    "ax.spines['right'].set_color(\"blue\")\n",
    "\n",
    "secax = ax.secondary_yaxis('right')\n",
    "secax.set_ylabel('Absolute Magnitude + %.1f' %Doffset)\n",
    "secax.set_ylim([6, 26])\n",
    "secax.spines['left'].set_color(\"blue\")\n",
    "\n",
    "plt.grid()\n",
    "plt.show()"
   ]
  },
  {
   "cell_type": "code",
   "execution_count": 121,
   "metadata": {},
   "outputs": [
    {
     "name": "stdout",
     "output_type": "stream",
     "text": [
      "125.89254117941675\n",
      "158.48931924611134 93.29576311272217\n"
     ]
    }
   ],
   "source": [
    "def d(distanceoffset):\n",
    "    return (10**(distanceoffset/5)) * 10\n",
    "\n",
    "D= d(Doffset)\n",
    "\n",
    "Dpluserr, Dminuserr = d(Doffset_plus_err), d(Doffset_less_err)\n",
    "\n",
    "Derr1 = Dpluserr - D\n",
    "Derr2 = D - Dminuserr\n",
    "Derr = np.maximum(Derr1, Derr2)\n",
    "\n",
    "print(D)\n",
    "print(D + Derr, D - Derr)"
   ]
  },
  {
   "cell_type": "code",
   "execution_count": null,
   "metadata": {},
   "outputs": [],
   "source": []
  }
 ],
 "metadata": {
  "kernelspec": {
   "display_name": "Python 3",
   "language": "python",
   "name": "python3"
  },
  "language_info": {
   "codemirror_mode": {
    "name": "ipython",
    "version": 3
   },
   "file_extension": ".py",
   "mimetype": "text/x-python",
   "name": "python",
   "nbconvert_exporter": "python",
   "pygments_lexer": "ipython3",
   "version": "3.8.3"
  }
 },
 "nbformat": 4,
 "nbformat_minor": 4
}
